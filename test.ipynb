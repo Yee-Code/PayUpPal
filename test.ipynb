{
 "cells": [
  {
   "cell_type": "code",
   "execution_count": 1,
   "id": "572d61d4",
   "metadata": {},
   "outputs": [],
   "source": [
    "from game_state import *\n",
    "\n",
    "game = GameState(async_print)\n",
    "async def show():\n",
    "    await game.show_players()\n",
    "\n",
    "async def info(player=None):\n",
    "    if player is None:\n",
    "        player = game.get_current_player()\n",
    "    await game.info(player)\n",
    "\n",
    "async def board():\n",
    "    await game.show_board()\n",
    "\n",
    "async def roll():\n",
    "    await game.roll_dice(game.get_current_player())\n",
    "\n",
    "async def next():\n",
    "    await game.next_turn(game.get_current_player())\n",
    "\n",
    "async def buy():\n",
    "    await game.buy_property(game.get_current_player(), game.get_square(game.get_current_player().position))\n",
    "\n",
    "async def pay():\n",
    "    await game.pay(game.get_current_player())\n",
    "\n",
    "async def sell():\n",
    "    await game.sell_property(game.get_current_player(), game.get_square(game.get_current_player().position))\n",
    "\n",
    "async def mortgage():\n",
    "    await game.mortgage_property(game.get_current_player(), game.get_square(game.get_current_player().position))\n",
    "\n",
    "async def upgrade():\n",
    "    await game.upgrade_property(game.get_current_player(), game.get_square(game.get_current_player().position))\n",
    "\n",
    "async def downgrade():\n",
    "    await game.downgrade_property(game.get_current_player(), game.get_square(game.get_current_player().position))\n",
    "\n",
    "async def reset():\n",
    "    await game.reset_game()"
   ]
  },
  {
   "cell_type": "code",
   "execution_count": 2,
   "id": "3587f03d",
   "metadata": {},
   "outputs": [
    {
     "name": "stdout",
     "output_type": "stream",
     "text": [
      "遊戲已重置！\n",
      "Alice 加入遊戲！\n",
      "------------------\n",
      "Bob 加入遊戲！\n",
      "------------------\n",
      "遊戲開始！\n",
      "玩家順序\n",
      "1. Bob\n",
      "2. Alice\n",
      "------------------\n",
      "目前玩家：\n",
      "  Bob:2，現金：1000 元\n",
      "  Alice:1，現金：1000 元\n",
      "------------------\n"
     ]
    }
   ],
   "source": [
    "await reset()\n",
    "await game.add_player(\"Alice\", 1)\n",
    "print(\"------------------\")\n",
    "await game.add_player(\"Bob\", 2) \n",
    "print(\"------------------\")\n",
    "await game.start_game()\n",
    "print(\"------------------\")\n",
    "await game.show_players()\n",
    "print(\"------------------\")"
   ]
  },
  {
   "cell_type": "code",
   "execution_count": 70,
   "id": "94958bbf",
   "metadata": {},
   "outputs": [
    {
     "name": "stdout",
     "output_type": "stream",
     "text": [
      "Bob 擲出了 8 點！\n",
      "移動到了 高雄！\n",
      "Bob 經過起點，獲得 2000 元！\n",
      "Bob 擁有這塊地產！\n",
      "使用 /upgrade 升級此地產\n"
     ]
    }
   ],
   "source": [
    "await roll()"
   ]
  },
  {
   "cell_type": "code",
   "execution_count": 72,
   "id": "0102b3c8",
   "metadata": {},
   "outputs": [
    {
     "name": "stdout",
     "output_type": "stream",
     "text": [
      "遊戲板：\n",
      " 0: 起點\n",
      " 1: 台北 Bob level: 0\n",
      " 2: 監獄\n",
      " 3: 台南 (500)\n",
      " 4: 高雄 Bob level: 1\n",
      " 5: 花蓮 Alice level: 0\n",
      " 6: 台東 Bob level: 2\n",
      " 7: 澎湖 Bob level: 0\n",
      " 8: 基隆 Bob level: 0\n",
      " 9: 監獄\n",
      "------------------\n",
      "當前玩家：Alice ID：1，金額：6650 元\n",
      "當前位置：監獄\n",
      "地產：\t花蓮 level: 0\n",
      "抵押地產：\n",
      "------------------\n",
      "目前玩家：\n",
      "  Bob:2，現金：11900 元\n",
      "  Alice:1，現金：6650 元\n"
     ]
    }
   ],
   "source": [
    "await board()\n",
    "print(\"------------------\")\n",
    "await info()\n",
    "print(\"------------------\")\n",
    "await show()"
   ]
  },
  {
   "cell_type": "code",
   "execution_count": 65,
   "id": "9641b493",
   "metadata": {},
   "outputs": [
    {
     "name": "stdout",
     "output_type": "stream",
     "text": [
      "Bob 購買了 基隆！\n",
      "輪到 Alice 了！\n"
     ]
    }
   ],
   "source": [
    "await buy()"
   ]
  },
  {
   "cell_type": "code",
   "execution_count": 23,
   "id": "826ea5c2",
   "metadata": {},
   "outputs": [
    {
     "name": "stdout",
     "output_type": "stream",
     "text": [
      "Bob 購買了 澎湖！\n",
      "輪到 Alice 了！\n"
     ]
    }
   ],
   "source": [
    "await buy()"
   ]
  },
  {
   "cell_type": "code",
   "execution_count": 54,
   "id": "6952a7e1",
   "metadata": {},
   "outputs": [
    {
     "name": "stdout",
     "output_type": "stream",
     "text": [
      "輪到 Bob 了！\n"
     ]
    }
   ],
   "source": [
    "await next()"
   ]
  },
  {
   "cell_type": "code",
   "execution_count": 15,
   "id": "b9e82c48",
   "metadata": {},
   "outputs": [
    {
     "name": "stdout",
     "output_type": "stream",
     "text": [
      "監獄 不是地產！\n"
     ]
    }
   ],
   "source": [
    "await sell()"
   ]
  },
  {
   "cell_type": "code",
   "execution_count": 16,
   "id": "830ac89c",
   "metadata": {},
   "outputs": [
    {
     "name": "stdout",
     "output_type": "stream",
     "text": [
      "監獄 不是地產！\n"
     ]
    }
   ],
   "source": [
    "await mortgage()"
   ]
  },
  {
   "cell_type": "code",
   "execution_count": 71,
   "id": "0b86e9c9",
   "metadata": {},
   "outputs": [
    {
     "name": "stdout",
     "output_type": "stream",
     "text": [
      "Bob 升級了 高雄 到 1 級！\n",
      "輪到 Alice 了！\n"
     ]
    }
   ],
   "source": [
    "await upgrade()"
   ]
  },
  {
   "cell_type": "code",
   "execution_count": 50,
   "id": "d5770478",
   "metadata": {},
   "outputs": [
    {
     "name": "stdout",
     "output_type": "stream",
     "text": [
      "台東 已經是最低級了！\n"
     ]
    }
   ],
   "source": [
    "await downgrade()"
   ]
  },
  {
   "cell_type": "code",
   "execution_count": 86,
   "id": "fdc292cc",
   "metadata": {},
   "outputs": [],
   "source": [
    "s = '/sell'"
   ]
  },
  {
   "cell_type": "code",
   "execution_count": 87,
   "id": "1e3157cb",
   "metadata": {},
   "outputs": [
    {
     "data": {
      "text/plain": [
       "['/sell']"
      ]
     },
     "execution_count": 87,
     "metadata": {},
     "output_type": "execute_result"
    }
   ],
   "source": [
    "s.split(' ',1)"
   ]
  },
  {
   "cell_type": "code",
   "execution_count": null,
   "id": "f0f99c67",
   "metadata": {},
   "outputs": [],
   "source": []
  }
 ],
 "metadata": {
  "kernelspec": {
   "display_name": "pyMain",
   "language": "python",
   "name": "pymain"
  },
  "language_info": {
   "codemirror_mode": {
    "name": "ipython",
    "version": 3
   },
   "file_extension": ".py",
   "mimetype": "text/x-python",
   "name": "python",
   "nbconvert_exporter": "python",
   "pygments_lexer": "ipython3",
   "version": "3.13.2"
  }
 },
 "nbformat": 4,
 "nbformat_minor": 5
}
